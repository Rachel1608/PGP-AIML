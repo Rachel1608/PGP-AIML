{
  "nbformat": 4,
  "nbformat_minor": 0,
  "metadata": {
    "colab": {
      "provenance": []
    },
    "kernelspec": {
      "name": "python3",
      "display_name": "Python 3"
    },
    "language_info": {
      "name": "python"
    },
    "accelerator": "GPU",
    "gpuClass": "standard"
  },
  "cells": [
    {
      "cell_type": "code",
      "execution_count": 1,
      "metadata": {
        "id": "J8A9P9A4QcLT"
      },
      "outputs": [],
      "source": [
        "from google.colab import drive"
      ]
    },
    {
      "cell_type": "code",
      "source": [
        "drive.mount(\"/content/gdrive\")"
      ],
      "metadata": {
        "colab": {
          "base_uri": "https://localhost:8080/"
        },
        "id": "FAS-zsTI-icR",
        "outputId": "1def5f46-6976-4fc6-cfc0-717da080c85d"
      },
      "execution_count": 2,
      "outputs": [
        {
          "output_type": "stream",
          "name": "stdout",
          "text": [
            "Drive already mounted at /content/gdrive; to attempt to forcibly remount, call drive.mount(\"/content/gdrive\", force_remount=True).\n"
          ]
        }
      ]
    },
    {
      "cell_type": "code",
      "source": [
        "import tensorflow as tf\n",
        "\n",
        "print(tf.__version__)"
      ],
      "metadata": {
        "colab": {
          "base_uri": "https://localhost:8080/"
        },
        "id": "umhGV0yN-mEU",
        "outputId": "9c1c2c0b-ec3d-44bb-c72f-8fc3133abbec"
      },
      "execution_count": 3,
      "outputs": [
        {
          "output_type": "stream",
          "name": "stdout",
          "text": [
            "2.12.0\n"
          ]
        }
      ]
    },
    {
      "cell_type": "code",
      "source": [
        "import numpy as np\n",
        "import pandas as pd\n",
        "import seaborn as sns\n",
        "import matplotlib.pyplot as plt\n",
        "%matplotlib inline"
      ],
      "metadata": {
        "id": "ZOW_2Jlp-17h"
      },
      "execution_count": 4,
      "outputs": []
    },
    {
      "cell_type": "code",
      "source": [
        "import re # relugar expression\n",
        "import nltk # natural language toolkit\n",
        "import string\n",
        "from sklearn.model_selection import train_test_split\n",
        "from tensorflow.keras.utils import to_categorical\n",
        "from tensorflow.keras import models\n",
        "from tensorflow.keras import layers\n",
        "from tensorflow.keras.preprocessing.sequence import pad_sequences"
      ],
      "metadata": {
        "id": "4K5nYbWJ_J2N"
      },
      "execution_count": 5,
      "outputs": []
    },
    {
      "cell_type": "code",
      "source": [
        "#PART-A\n",
        "#1. Import and analyse the data set. \n",
        "from keras.datasets import imdb\n",
        "(X_train, y_train), (X_test, y_test) = imdb.load_data(num_words=10000)"
      ],
      "metadata": {
        "id": "zcEj3CO6BsZS"
      },
      "execution_count": 6,
      "outputs": []
    },
    {
      "cell_type": "code",
      "source": [
        "X_train"
      ],
      "metadata": {
        "colab": {
          "base_uri": "https://localhost:8080/"
        },
        "id": "tOhqXjCeCYvm",
        "outputId": "3e339c1c-d79d-4b0d-f776-e73978615014"
      },
      "execution_count": 7,
      "outputs": [
        {
          "output_type": "execute_result",
          "data": {
            "text/plain": [
              "array([list([1, 14, 22, 16, 43, 530, 973, 1622, 1385, 65, 458, 4468, 66, 3941, 4, 173, 36, 256, 5, 25, 100, 43, 838, 112, 50, 670, 2, 9, 35, 480, 284, 5, 150, 4, 172, 112, 167, 2, 336, 385, 39, 4, 172, 4536, 1111, 17, 546, 38, 13, 447, 4, 192, 50, 16, 6, 147, 2025, 19, 14, 22, 4, 1920, 4613, 469, 4, 22, 71, 87, 12, 16, 43, 530, 38, 76, 15, 13, 1247, 4, 22, 17, 515, 17, 12, 16, 626, 18, 2, 5, 62, 386, 12, 8, 316, 8, 106, 5, 4, 2223, 5244, 16, 480, 66, 3785, 33, 4, 130, 12, 16, 38, 619, 5, 25, 124, 51, 36, 135, 48, 25, 1415, 33, 6, 22, 12, 215, 28, 77, 52, 5, 14, 407, 16, 82, 2, 8, 4, 107, 117, 5952, 15, 256, 4, 2, 7, 3766, 5, 723, 36, 71, 43, 530, 476, 26, 400, 317, 46, 7, 4, 2, 1029, 13, 104, 88, 4, 381, 15, 297, 98, 32, 2071, 56, 26, 141, 6, 194, 7486, 18, 4, 226, 22, 21, 134, 476, 26, 480, 5, 144, 30, 5535, 18, 51, 36, 28, 224, 92, 25, 104, 4, 226, 65, 16, 38, 1334, 88, 12, 16, 283, 5, 16, 4472, 113, 103, 32, 15, 16, 5345, 19, 178, 32]),\n",
              "       list([1, 194, 1153, 194, 8255, 78, 228, 5, 6, 1463, 4369, 5012, 134, 26, 4, 715, 8, 118, 1634, 14, 394, 20, 13, 119, 954, 189, 102, 5, 207, 110, 3103, 21, 14, 69, 188, 8, 30, 23, 7, 4, 249, 126, 93, 4, 114, 9, 2300, 1523, 5, 647, 4, 116, 9, 35, 8163, 4, 229, 9, 340, 1322, 4, 118, 9, 4, 130, 4901, 19, 4, 1002, 5, 89, 29, 952, 46, 37, 4, 455, 9, 45, 43, 38, 1543, 1905, 398, 4, 1649, 26, 6853, 5, 163, 11, 3215, 2, 4, 1153, 9, 194, 775, 7, 8255, 2, 349, 2637, 148, 605, 2, 8003, 15, 123, 125, 68, 2, 6853, 15, 349, 165, 4362, 98, 5, 4, 228, 9, 43, 2, 1157, 15, 299, 120, 5, 120, 174, 11, 220, 175, 136, 50, 9, 4373, 228, 8255, 5, 2, 656, 245, 2350, 5, 4, 9837, 131, 152, 491, 18, 2, 32, 7464, 1212, 14, 9, 6, 371, 78, 22, 625, 64, 1382, 9, 8, 168, 145, 23, 4, 1690, 15, 16, 4, 1355, 5, 28, 6, 52, 154, 462, 33, 89, 78, 285, 16, 145, 95]),\n",
              "       list([1, 14, 47, 8, 30, 31, 7, 4, 249, 108, 7, 4, 5974, 54, 61, 369, 13, 71, 149, 14, 22, 112, 4, 2401, 311, 12, 16, 3711, 33, 75, 43, 1829, 296, 4, 86, 320, 35, 534, 19, 263, 4821, 1301, 4, 1873, 33, 89, 78, 12, 66, 16, 4, 360, 7, 4, 58, 316, 334, 11, 4, 1716, 43, 645, 662, 8, 257, 85, 1200, 42, 1228, 2578, 83, 68, 3912, 15, 36, 165, 1539, 278, 36, 69, 2, 780, 8, 106, 14, 6905, 1338, 18, 6, 22, 12, 215, 28, 610, 40, 6, 87, 326, 23, 2300, 21, 23, 22, 12, 272, 40, 57, 31, 11, 4, 22, 47, 6, 2307, 51, 9, 170, 23, 595, 116, 595, 1352, 13, 191, 79, 638, 89, 2, 14, 9, 8, 106, 607, 624, 35, 534, 6, 227, 7, 129, 113]),\n",
              "       ...,\n",
              "       list([1, 11, 6, 230, 245, 6401, 9, 6, 1225, 446, 2, 45, 2174, 84, 8322, 4007, 21, 4, 912, 84, 2, 325, 725, 134, 2, 1715, 84, 5, 36, 28, 57, 1099, 21, 8, 140, 8, 703, 5, 2, 84, 56, 18, 1644, 14, 9, 31, 7, 4, 9406, 1209, 2295, 2, 1008, 18, 6, 20, 207, 110, 563, 12, 8, 2901, 2, 8, 97, 6, 20, 53, 4767, 74, 4, 460, 364, 1273, 29, 270, 11, 960, 108, 45, 40, 29, 2961, 395, 11, 6, 4065, 500, 7, 2, 89, 364, 70, 29, 140, 4, 64, 4780, 11, 4, 2678, 26, 178, 4, 529, 443, 2, 5, 27, 710, 117, 2, 8123, 165, 47, 84, 37, 131, 818, 14, 595, 10, 10, 61, 1242, 1209, 10, 10, 288, 2260, 1702, 34, 2901, 2, 4, 65, 496, 4, 231, 7, 790, 5, 6, 320, 234, 2766, 234, 1119, 1574, 7, 496, 4, 139, 929, 2901, 2, 7750, 5, 4241, 18, 4, 8497, 2, 250, 11, 1818, 7561, 4, 4217, 5408, 747, 1115, 372, 1890, 1006, 541, 9303, 7, 4, 59, 2, 4, 3586, 2]),\n",
              "       list([1, 1446, 7079, 69, 72, 3305, 13, 610, 930, 8, 12, 582, 23, 5, 16, 484, 685, 54, 349, 11, 4120, 2959, 45, 58, 1466, 13, 197, 12, 16, 43, 23, 2, 5, 62, 30, 145, 402, 11, 4131, 51, 575, 32, 61, 369, 71, 66, 770, 12, 1054, 75, 100, 2198, 8, 4, 105, 37, 69, 147, 712, 75, 3543, 44, 257, 390, 5, 69, 263, 514, 105, 50, 286, 1814, 23, 4, 123, 13, 161, 40, 5, 421, 4, 116, 16, 897, 13, 2, 40, 319, 5872, 112, 6700, 11, 4803, 121, 25, 70, 3468, 4, 719, 3798, 13, 18, 31, 62, 40, 8, 7200, 4, 2, 7, 14, 123, 5, 942, 25, 8, 721, 12, 145, 5, 202, 12, 160, 580, 202, 12, 6, 52, 58, 2, 92, 401, 728, 12, 39, 14, 251, 8, 15, 251, 5, 2, 12, 38, 84, 80, 124, 12, 9, 23]),\n",
              "       list([1, 17, 6, 194, 337, 7, 4, 204, 22, 45, 254, 8, 106, 14, 123, 4, 2, 270, 2, 5, 2, 2, 732, 2098, 101, 405, 39, 14, 1034, 4, 1310, 9, 115, 50, 305, 12, 47, 4, 168, 5, 235, 7, 38, 111, 699, 102, 7, 4, 4039, 9245, 9, 24, 6, 78, 1099, 17, 2345, 2, 21, 27, 9685, 6139, 5, 2, 1603, 92, 1183, 4, 1310, 7, 4, 204, 42, 97, 90, 35, 221, 109, 29, 127, 27, 118, 8, 97, 12, 157, 21, 6789, 2, 9, 6, 66, 78, 1099, 4, 631, 1191, 5, 2642, 272, 191, 1070, 6, 7585, 8, 2197, 2, 2, 544, 5, 383, 1271, 848, 1468, 2, 497, 2, 8, 1597, 8778, 2, 21, 60, 27, 239, 9, 43, 8368, 209, 405, 10, 10, 12, 764, 40, 4, 248, 20, 12, 16, 5, 174, 1791, 72, 7, 51, 6, 1739, 22, 4, 204, 131, 9])],\n",
              "      dtype=object)"
            ]
          },
          "metadata": {},
          "execution_count": 7
        }
      ]
    },
    {
      "cell_type": "code",
      "source": [
        "y_train"
      ],
      "metadata": {
        "colab": {
          "base_uri": "https://localhost:8080/"
        },
        "id": "1uUk-uk4CpVw",
        "outputId": "ac44e8f5-8fd3-49ab-fe34-3f19f243c7db"
      },
      "execution_count": 8,
      "outputs": [
        {
          "output_type": "execute_result",
          "data": {
            "text/plain": [
              "array([1, 0, 0, ..., 0, 1, 0])"
            ]
          },
          "metadata": {},
          "execution_count": 8
        }
      ]
    },
    {
      "cell_type": "code",
      "source": [
        "X_train.shape"
      ],
      "metadata": {
        "colab": {
          "base_uri": "https://localhost:8080/"
        },
        "id": "F6oJULwVCtY5",
        "outputId": "3c9cc78e-abbb-49bf-ed19-1b3d3b82f2cc"
      },
      "execution_count": 9,
      "outputs": [
        {
          "output_type": "execute_result",
          "data": {
            "text/plain": [
              "(25000,)"
            ]
          },
          "metadata": {},
          "execution_count": 9
        }
      ]
    },
    {
      "cell_type": "code",
      "source": [
        "X_test.shape"
      ],
      "metadata": {
        "colab": {
          "base_uri": "https://localhost:8080/"
        },
        "id": "K6AbG283DIHl",
        "outputId": "140384a1-c550-47db-9f0b-11f938496f78"
      },
      "execution_count": 10,
      "outputs": [
        {
          "output_type": "execute_result",
          "data": {
            "text/plain": [
              "(25000,)"
            ]
          },
          "metadata": {},
          "execution_count": 10
        }
      ]
    },
    {
      "cell_type": "code",
      "source": [
        "y_train.shape"
      ],
      "metadata": {
        "colab": {
          "base_uri": "https://localhost:8080/"
        },
        "id": "cBqOrbZ8DMg_",
        "outputId": "b7f41f2b-6f20-4bef-88e9-433b0816e9df"
      },
      "execution_count": 11,
      "outputs": [
        {
          "output_type": "execute_result",
          "data": {
            "text/plain": [
              "(25000,)"
            ]
          },
          "metadata": {},
          "execution_count": 11
        }
      ]
    },
    {
      "cell_type": "code",
      "source": [
        "y_test.shape"
      ],
      "metadata": {
        "colab": {
          "base_uri": "https://localhost:8080/"
        },
        "id": "fMrF_lfiDZ6A",
        "outputId": "5cdb84db-3865-4ac6-e6ce-c64ea91e579a"
      },
      "execution_count": 12,
      "outputs": [
        {
          "output_type": "execute_result",
          "data": {
            "text/plain": [
              "(25000,)"
            ]
          },
          "metadata": {},
          "execution_count": 12
        }
      ]
    },
    {
      "cell_type": "code",
      "source": [
        "#2. Perform relevant sequence adding on the data.\n",
        "def vectorization(sequences, dimension = 10000):\n",
        "    results = np.zeros((len(sequences), dimension))\n",
        "    for i, sequence in enumerate(sequences):\n",
        "        results[i, sequence] = 1\n",
        "    return results"
      ],
      "metadata": {
        "id": "ckfTWUb6DcHA"
      },
      "execution_count": 13,
      "outputs": []
    },
    {
      "cell_type": "code",
      "source": [
        "# Consolidating data for EDA\n",
        "\n",
        "data = np.concatenate((X_train, X_test), axis=0)\n",
        "label = np.concatenate((y_train, y_test), axis=0)"
      ],
      "metadata": {
        "id": "E4lK-VspDcJ7"
      },
      "execution_count": 14,
      "outputs": []
    },
    {
      "cell_type": "code",
      "source": [
        "print(\"Labels:\",np.unique(label))\n",
        "print(\"Number of unique words:\", len(np.unique(np.hstack(data))))"
      ],
      "metadata": {
        "colab": {
          "base_uri": "https://localhost:8080/"
        },
        "id": "7RuZdd4tEUpU",
        "outputId": "7cad9aad-a894-4363-e7dd-892c62857b06"
      },
      "execution_count": 15,
      "outputs": [
        {
          "output_type": "stream",
          "name": "stdout",
          "text": [
            "Labels: [0 1]\n",
            "Number of unique words: 9998\n"
          ]
        }
      ]
    },
    {
      "cell_type": "code",
      "source": [
        "label[0]"
      ],
      "metadata": {
        "colab": {
          "base_uri": "https://localhost:8080/"
        },
        "id": "6dLVLygiE1a_",
        "outputId": "23c76442-9cd2-4aec-d3f3-7c5616b6879a"
      },
      "execution_count": 17,
      "outputs": [
        {
          "output_type": "execute_result",
          "data": {
            "text/plain": [
              "1"
            ]
          },
          "metadata": {},
          "execution_count": 17
        }
      ]
    },
    {
      "cell_type": "code",
      "source": [
        "data[0]"
      ],
      "metadata": {
        "colab": {
          "base_uri": "https://localhost:8080/"
        },
        "id": "15nij9jYFLLn",
        "outputId": "d92e7d17-1db5-4183-be98-aa19690412ee"
      },
      "execution_count": 18,
      "outputs": [
        {
          "output_type": "execute_result",
          "data": {
            "text/plain": [
              "[1,\n",
              " 14,\n",
              " 22,\n",
              " 16,\n",
              " 43,\n",
              " 530,\n",
              " 973,\n",
              " 1622,\n",
              " 1385,\n",
              " 65,\n",
              " 458,\n",
              " 4468,\n",
              " 66,\n",
              " 3941,\n",
              " 4,\n",
              " 173,\n",
              " 36,\n",
              " 256,\n",
              " 5,\n",
              " 25,\n",
              " 100,\n",
              " 43,\n",
              " 838,\n",
              " 112,\n",
              " 50,\n",
              " 670,\n",
              " 2,\n",
              " 9,\n",
              " 35,\n",
              " 480,\n",
              " 284,\n",
              " 5,\n",
              " 150,\n",
              " 4,\n",
              " 172,\n",
              " 112,\n",
              " 167,\n",
              " 2,\n",
              " 336,\n",
              " 385,\n",
              " 39,\n",
              " 4,\n",
              " 172,\n",
              " 4536,\n",
              " 1111,\n",
              " 17,\n",
              " 546,\n",
              " 38,\n",
              " 13,\n",
              " 447,\n",
              " 4,\n",
              " 192,\n",
              " 50,\n",
              " 16,\n",
              " 6,\n",
              " 147,\n",
              " 2025,\n",
              " 19,\n",
              " 14,\n",
              " 22,\n",
              " 4,\n",
              " 1920,\n",
              " 4613,\n",
              " 469,\n",
              " 4,\n",
              " 22,\n",
              " 71,\n",
              " 87,\n",
              " 12,\n",
              " 16,\n",
              " 43,\n",
              " 530,\n",
              " 38,\n",
              " 76,\n",
              " 15,\n",
              " 13,\n",
              " 1247,\n",
              " 4,\n",
              " 22,\n",
              " 17,\n",
              " 515,\n",
              " 17,\n",
              " 12,\n",
              " 16,\n",
              " 626,\n",
              " 18,\n",
              " 2,\n",
              " 5,\n",
              " 62,\n",
              " 386,\n",
              " 12,\n",
              " 8,\n",
              " 316,\n",
              " 8,\n",
              " 106,\n",
              " 5,\n",
              " 4,\n",
              " 2223,\n",
              " 5244,\n",
              " 16,\n",
              " 480,\n",
              " 66,\n",
              " 3785,\n",
              " 33,\n",
              " 4,\n",
              " 130,\n",
              " 12,\n",
              " 16,\n",
              " 38,\n",
              " 619,\n",
              " 5,\n",
              " 25,\n",
              " 124,\n",
              " 51,\n",
              " 36,\n",
              " 135,\n",
              " 48,\n",
              " 25,\n",
              " 1415,\n",
              " 33,\n",
              " 6,\n",
              " 22,\n",
              " 12,\n",
              " 215,\n",
              " 28,\n",
              " 77,\n",
              " 52,\n",
              " 5,\n",
              " 14,\n",
              " 407,\n",
              " 16,\n",
              " 82,\n",
              " 2,\n",
              " 8,\n",
              " 4,\n",
              " 107,\n",
              " 117,\n",
              " 5952,\n",
              " 15,\n",
              " 256,\n",
              " 4,\n",
              " 2,\n",
              " 7,\n",
              " 3766,\n",
              " 5,\n",
              " 723,\n",
              " 36,\n",
              " 71,\n",
              " 43,\n",
              " 530,\n",
              " 476,\n",
              " 26,\n",
              " 400,\n",
              " 317,\n",
              " 46,\n",
              " 7,\n",
              " 4,\n",
              " 2,\n",
              " 1029,\n",
              " 13,\n",
              " 104,\n",
              " 88,\n",
              " 4,\n",
              " 381,\n",
              " 15,\n",
              " 297,\n",
              " 98,\n",
              " 32,\n",
              " 2071,\n",
              " 56,\n",
              " 26,\n",
              " 141,\n",
              " 6,\n",
              " 194,\n",
              " 7486,\n",
              " 18,\n",
              " 4,\n",
              " 226,\n",
              " 22,\n",
              " 21,\n",
              " 134,\n",
              " 476,\n",
              " 26,\n",
              " 480,\n",
              " 5,\n",
              " 144,\n",
              " 30,\n",
              " 5535,\n",
              " 18,\n",
              " 51,\n",
              " 36,\n",
              " 28,\n",
              " 224,\n",
              " 92,\n",
              " 25,\n",
              " 104,\n",
              " 4,\n",
              " 226,\n",
              " 65,\n",
              " 16,\n",
              " 38,\n",
              " 1334,\n",
              " 88,\n",
              " 12,\n",
              " 16,\n",
              " 283,\n",
              " 5,\n",
              " 16,\n",
              " 4472,\n",
              " 113,\n",
              " 103,\n",
              " 32,\n",
              " 15,\n",
              " 16,\n",
              " 5345,\n",
              " 19,\n",
              " 178,\n",
              " 32]"
            ]
          },
          "metadata": {},
          "execution_count": 18
        }
      ]
    },
    {
      "cell_type": "code",
      "source": [
        "#3. Perform following data analysis: \n",
        "# Print shape of features and labels\n",
        "# Print value of any one feature and it's label\n",
        "print(data.shape)\n",
        "print(label.shape)"
      ],
      "metadata": {
        "colab": {
          "base_uri": "https://localhost:8080/"
        },
        "id": "nSlId4vYTAUK",
        "outputId": "4b1e93d3-e56e-4836-86d7-43b520199771"
      },
      "execution_count": 19,
      "outputs": [
        {
          "output_type": "stream",
          "name": "stdout",
          "text": [
            "(50000,)\n",
            "(50000,)\n"
          ]
        }
      ]
    },
    {
      "cell_type": "code",
      "source": [
        "data[7]"
      ],
      "metadata": {
        "colab": {
          "base_uri": "https://localhost:8080/"
        },
        "id": "gDwI5B0BTj_r",
        "outputId": "71f28238-d737-4e78-8b42-14b4abb07a03"
      },
      "execution_count": 20,
      "outputs": [
        {
          "output_type": "execute_result",
          "data": {
            "text/plain": [
              "[1,\n",
              " 4,\n",
              " 2,\n",
              " 716,\n",
              " 4,\n",
              " 65,\n",
              " 7,\n",
              " 4,\n",
              " 689,\n",
              " 4367,\n",
              " 6308,\n",
              " 2343,\n",
              " 4804,\n",
              " 2,\n",
              " 2,\n",
              " 5270,\n",
              " 2,\n",
              " 2315,\n",
              " 2,\n",
              " 2,\n",
              " 2,\n",
              " 2,\n",
              " 4,\n",
              " 2,\n",
              " 628,\n",
              " 7685,\n",
              " 37,\n",
              " 9,\n",
              " 150,\n",
              " 4,\n",
              " 9820,\n",
              " 4069,\n",
              " 11,\n",
              " 2909,\n",
              " 4,\n",
              " 2,\n",
              " 847,\n",
              " 313,\n",
              " 6,\n",
              " 176,\n",
              " 2,\n",
              " 9,\n",
              " 6202,\n",
              " 138,\n",
              " 9,\n",
              " 4434,\n",
              " 19,\n",
              " 4,\n",
              " 96,\n",
              " 183,\n",
              " 26,\n",
              " 4,\n",
              " 192,\n",
              " 15,\n",
              " 27,\n",
              " 5842,\n",
              " 799,\n",
              " 7101,\n",
              " 2,\n",
              " 588,\n",
              " 84,\n",
              " 11,\n",
              " 4,\n",
              " 3231,\n",
              " 152,\n",
              " 339,\n",
              " 5206,\n",
              " 42,\n",
              " 4869,\n",
              " 2,\n",
              " 6293,\n",
              " 345,\n",
              " 4804,\n",
              " 2,\n",
              " 142,\n",
              " 43,\n",
              " 218,\n",
              " 208,\n",
              " 54,\n",
              " 29,\n",
              " 853,\n",
              " 659,\n",
              " 46,\n",
              " 4,\n",
              " 882,\n",
              " 183,\n",
              " 80,\n",
              " 115,\n",
              " 30,\n",
              " 4,\n",
              " 172,\n",
              " 174,\n",
              " 10,\n",
              " 10,\n",
              " 1001,\n",
              " 398,\n",
              " 1001,\n",
              " 1055,\n",
              " 526,\n",
              " 34,\n",
              " 3717,\n",
              " 2,\n",
              " 5262,\n",
              " 2,\n",
              " 17,\n",
              " 4,\n",
              " 6706,\n",
              " 1094,\n",
              " 871,\n",
              " 64,\n",
              " 85,\n",
              " 22,\n",
              " 2030,\n",
              " 1109,\n",
              " 38,\n",
              " 230,\n",
              " 9,\n",
              " 4,\n",
              " 4324,\n",
              " 2,\n",
              " 251,\n",
              " 5056,\n",
              " 1034,\n",
              " 195,\n",
              " 301,\n",
              " 14,\n",
              " 16,\n",
              " 31,\n",
              " 7,\n",
              " 4,\n",
              " 2,\n",
              " 8,\n",
              " 783,\n",
              " 2,\n",
              " 33,\n",
              " 4,\n",
              " 2945,\n",
              " 103,\n",
              " 465,\n",
              " 2,\n",
              " 42,\n",
              " 845,\n",
              " 45,\n",
              " 446,\n",
              " 11,\n",
              " 1895,\n",
              " 19,\n",
              " 184,\n",
              " 76,\n",
              " 32,\n",
              " 4,\n",
              " 5310,\n",
              " 207,\n",
              " 110,\n",
              " 13,\n",
              " 197,\n",
              " 4,\n",
              " 2,\n",
              " 16,\n",
              " 601,\n",
              " 964,\n",
              " 2152,\n",
              " 595,\n",
              " 13,\n",
              " 258,\n",
              " 4,\n",
              " 1730,\n",
              " 66,\n",
              " 338,\n",
              " 55,\n",
              " 5312,\n",
              " 4,\n",
              " 550,\n",
              " 728,\n",
              " 65,\n",
              " 1196,\n",
              " 8,\n",
              " 1839,\n",
              " 61,\n",
              " 1546,\n",
              " 42,\n",
              " 8361,\n",
              " 61,\n",
              " 602,\n",
              " 120,\n",
              " 45,\n",
              " 7304,\n",
              " 6,\n",
              " 320,\n",
              " 786,\n",
              " 99,\n",
              " 196,\n",
              " 2,\n",
              " 786,\n",
              " 5936,\n",
              " 4,\n",
              " 225,\n",
              " 4,\n",
              " 373,\n",
              " 1009,\n",
              " 33,\n",
              " 4,\n",
              " 130,\n",
              " 63,\n",
              " 69,\n",
              " 72,\n",
              " 1104,\n",
              " 46,\n",
              " 1292,\n",
              " 225,\n",
              " 14,\n",
              " 66,\n",
              " 194,\n",
              " 2,\n",
              " 1703,\n",
              " 56,\n",
              " 8,\n",
              " 803,\n",
              " 1004,\n",
              " 6,\n",
              " 2,\n",
              " 155,\n",
              " 11,\n",
              " 4,\n",
              " 2,\n",
              " 3231,\n",
              " 45,\n",
              " 853,\n",
              " 2029,\n",
              " 8,\n",
              " 30,\n",
              " 6,\n",
              " 117,\n",
              " 430,\n",
              " 19,\n",
              " 6,\n",
              " 8941,\n",
              " 9,\n",
              " 15,\n",
              " 66,\n",
              " 424,\n",
              " 8,\n",
              " 2337,\n",
              " 178,\n",
              " 9,\n",
              " 15,\n",
              " 66,\n",
              " 424,\n",
              " 8,\n",
              " 1465,\n",
              " 178,\n",
              " 9,\n",
              " 15,\n",
              " 66,\n",
              " 142,\n",
              " 15,\n",
              " 9,\n",
              " 424,\n",
              " 8,\n",
              " 28,\n",
              " 178,\n",
              " 662,\n",
              " 44,\n",
              " 12,\n",
              " 17,\n",
              " 4,\n",
              " 130,\n",
              " 898,\n",
              " 1686,\n",
              " 9,\n",
              " 6,\n",
              " 5623,\n",
              " 267,\n",
              " 185,\n",
              " 430,\n",
              " 4,\n",
              " 118,\n",
              " 2,\n",
              " 277,\n",
              " 15,\n",
              " 4,\n",
              " 1188,\n",
              " 100,\n",
              " 216,\n",
              " 56,\n",
              " 19,\n",
              " 4,\n",
              " 357,\n",
              " 114,\n",
              " 2,\n",
              " 367,\n",
              " 45,\n",
              " 115,\n",
              " 93,\n",
              " 788,\n",
              " 121,\n",
              " 4,\n",
              " 2,\n",
              " 79,\n",
              " 32,\n",
              " 68,\n",
              " 278,\n",
              " 39,\n",
              " 8,\n",
              " 818,\n",
              " 162,\n",
              " 4165,\n",
              " 237,\n",
              " 600,\n",
              " 7,\n",
              " 98,\n",
              " 306,\n",
              " 8,\n",
              " 157,\n",
              " 549,\n",
              " 628,\n",
              " 11,\n",
              " 6,\n",
              " 2,\n",
              " 13,\n",
              " 824,\n",
              " 15,\n",
              " 4104,\n",
              " 76,\n",
              " 42,\n",
              " 138,\n",
              " 36,\n",
              " 774,\n",
              " 77,\n",
              " 1059,\n",
              " 159,\n",
              " 150,\n",
              " 4,\n",
              " 229,\n",
              " 497,\n",
              " 8,\n",
              " 1493,\n",
              " 11,\n",
              " 175,\n",
              " 251,\n",
              " 453,\n",
              " 19,\n",
              " 8651,\n",
              " 189,\n",
              " 12,\n",
              " 43,\n",
              " 127,\n",
              " 6,\n",
              " 394,\n",
              " 292,\n",
              " 7,\n",
              " 8253,\n",
              " 4,\n",
              " 107,\n",
              " 8,\n",
              " 4,\n",
              " 2826,\n",
              " 15,\n",
              " 1082,\n",
              " 1251,\n",
              " 9,\n",
              " 906,\n",
              " 42,\n",
              " 1134,\n",
              " 6,\n",
              " 66,\n",
              " 78,\n",
              " 22,\n",
              " 15,\n",
              " 13,\n",
              " 244,\n",
              " 2519,\n",
              " 8,\n",
              " 135,\n",
              " 233,\n",
              " 52,\n",
              " 44,\n",
              " 10,\n",
              " 10,\n",
              " 466,\n",
              " 112,\n",
              " 398,\n",
              " 526,\n",
              " 34,\n",
              " 4,\n",
              " 1572,\n",
              " 4413,\n",
              " 6706,\n",
              " 1094,\n",
              " 225,\n",
              " 57,\n",
              " 599,\n",
              " 133,\n",
              " 225,\n",
              " 6,\n",
              " 227,\n",
              " 7,\n",
              " 541,\n",
              " 4323,\n",
              " 6,\n",
              " 171,\n",
              " 139,\n",
              " 7,\n",
              " 539,\n",
              " 2,\n",
              " 56,\n",
              " 11,\n",
              " 6,\n",
              " 3231,\n",
              " 21,\n",
              " 164,\n",
              " 25,\n",
              " 426,\n",
              " 81,\n",
              " 33,\n",
              " 344,\n",
              " 624,\n",
              " 19,\n",
              " 6,\n",
              " 4617,\n",
              " 7,\n",
              " 2,\n",
              " 2,\n",
              " 6,\n",
              " 5802,\n",
              " 4,\n",
              " 22,\n",
              " 9,\n",
              " 1082,\n",
              " 629,\n",
              " 237,\n",
              " 45,\n",
              " 188,\n",
              " 6,\n",
              " 55,\n",
              " 655,\n",
              " 707,\n",
              " 6371,\n",
              " 956,\n",
              " 225,\n",
              " 1456,\n",
              " 841,\n",
              " 42,\n",
              " 1310,\n",
              " 225,\n",
              " 6,\n",
              " 2493,\n",
              " 1467,\n",
              " 7722,\n",
              " 2828,\n",
              " 21,\n",
              " 4,\n",
              " 2,\n",
              " 9,\n",
              " 364,\n",
              " 23,\n",
              " 4,\n",
              " 2228,\n",
              " 2407,\n",
              " 225,\n",
              " 24,\n",
              " 76,\n",
              " 133,\n",
              " 18,\n",
              " 4,\n",
              " 189,\n",
              " 2293,\n",
              " 10,\n",
              " 10,\n",
              " 814,\n",
              " 11,\n",
              " 2,\n",
              " 11,\n",
              " 2642,\n",
              " 14,\n",
              " 47,\n",
              " 15,\n",
              " 682,\n",
              " 364,\n",
              " 352,\n",
              " 168,\n",
              " 44,\n",
              " 12,\n",
              " 45,\n",
              " 24,\n",
              " 913,\n",
              " 93,\n",
              " 21,\n",
              " 247,\n",
              " 2441,\n",
              " 4,\n",
              " 116,\n",
              " 34,\n",
              " 35,\n",
              " 1859,\n",
              " 8,\n",
              " 72,\n",
              " 177,\n",
              " 9,\n",
              " 164,\n",
              " 8,\n",
              " 901,\n",
              " 344,\n",
              " 44,\n",
              " 13,\n",
              " 191,\n",
              " 135,\n",
              " 13,\n",
              " 126,\n",
              " 421,\n",
              " 233,\n",
              " 18,\n",
              " 259,\n",
              " 10,\n",
              " 10,\n",
              " 4,\n",
              " 2,\n",
              " 6847,\n",
              " 4,\n",
              " 2,\n",
              " 3074,\n",
              " 7,\n",
              " 112,\n",
              " 199,\n",
              " 753,\n",
              " 357,\n",
              " 39,\n",
              " 63,\n",
              " 12,\n",
              " 115,\n",
              " 2,\n",
              " 763,\n",
              " 8,\n",
              " 15,\n",
              " 35,\n",
              " 3282,\n",
              " 1523,\n",
              " 65,\n",
              " 57,\n",
              " 599,\n",
              " 6,\n",
              " 1916,\n",
              " 277,\n",
              " 1730,\n",
              " 37,\n",
              " 25,\n",
              " 92,\n",
              " 202,\n",
              " 6,\n",
              " 8848,\n",
              " 44,\n",
              " 25,\n",
              " 28,\n",
              " 6,\n",
              " 22,\n",
              " 15,\n",
              " 122,\n",
              " 24,\n",
              " 4171,\n",
              " 72,\n",
              " 33,\n",
              " 32]"
            ]
          },
          "metadata": {},
          "execution_count": 20
        }
      ]
    },
    {
      "cell_type": "code",
      "source": [
        "label[7]"
      ],
      "metadata": {
        "colab": {
          "base_uri": "https://localhost:8080/"
        },
        "id": "sFNw8qEQTmIO",
        "outputId": "838a08b5-0867-4075-bc98-2b4bfa413a35"
      },
      "execution_count": 21,
      "outputs": [
        {
          "output_type": "execute_result",
          "data": {
            "text/plain": [
              "0"
            ]
          },
          "metadata": {},
          "execution_count": 21
        }
      ]
    },
    {
      "cell_type": "code",
      "source": [
        "#4. Decode the feature value to get original sentence \n",
        "index = imdb.get_word_index()\n",
        "reverse_index = dict([(value, key) for (key, value) in index.items()]) \n",
        "decoded = \" \".join( [reverse_index.get(i - 3, \"#\") for i in data[6]] )\n",
        "print(decoded) "
      ],
      "metadata": {
        "id": "8PzobLy5FX9k",
        "colab": {
          "base_uri": "https://localhost:8080/"
        },
        "outputId": "22ce2c9b-6a89-4d6e-fd57-c4bfc3dde114"
      },
      "execution_count": 22,
      "outputs": [
        {
          "output_type": "stream",
          "name": "stdout",
          "text": [
            "# lavish production values and solid performances in this straightforward adaption of jane # satirical classic about the marriage game within and between the classes in # 18th century england northam and paltrow are a # mixture as friends who must pass through # and lies to discover that they love each other good humor is a # virtue which goes a long way towards explaining the # of the aged source material which has been toned down a bit in its harsh # i liked the look of the film and how shots were set up and i thought it didn't rely too much on # of head shots like most other films of the 80s and 90s do very good results\n"
          ]
        }
      ]
    },
    {
      "cell_type": "code",
      "source": [
        "label[6]"
      ],
      "metadata": {
        "colab": {
          "base_uri": "https://localhost:8080/"
        },
        "id": "kkW7FZXaGYnG",
        "outputId": "02d3303f-719a-40ff-861b-1343d3ebefed"
      },
      "execution_count": 23,
      "outputs": [
        {
          "output_type": "execute_result",
          "data": {
            "text/plain": [
              "1"
            ]
          },
          "metadata": {},
          "execution_count": 23
        }
      ]
    },
    {
      "cell_type": "code",
      "source": [
        "print(\"Here we can observe that after decoding the review we have selected becomes the positive because it shows label as 1\")"
      ],
      "metadata": {
        "colab": {
          "base_uri": "https://localhost:8080/"
        },
        "id": "AhmmOepYU-1C",
        "outputId": "ff6e7483-a8ab-445d-8b9e-b01e578508c1"
      },
      "execution_count": 24,
      "outputs": [
        {
          "output_type": "stream",
          "name": "stdout",
          "text": [
            "Here we can observe that after decoding the review we have selected becomes the positive because it shows label as 1\n"
          ]
        }
      ]
    },
    {
      "cell_type": "code",
      "source": [
        "#adding sequence to the data\n",
        "data = vectorization(data)\n",
        "label = np.array(label).astype(\"float32\")"
      ],
      "metadata": {
        "id": "QdiKPhC_GdTZ"
      },
      "execution_count": 25,
      "outputs": []
    },
    {
      "cell_type": "code",
      "source": [
        "#Balancing the Data\n",
        "labels = pd.DataFrame({'label':label})\n",
        "sns.countplot(x='label', data=labels)"
      ],
      "metadata": {
        "colab": {
          "base_uri": "https://localhost:8080/",
          "height": 466
        },
        "id": "TBdqS-flG_tA",
        "outputId": "bc9b0d70-eb4d-48cc-f00c-2997bc4c3a09"
      },
      "execution_count": 26,
      "outputs": [
        {
          "output_type": "execute_result",
          "data": {
            "text/plain": [
              "<Axes: xlabel='label', ylabel='count'>"
            ]
          },
          "metadata": {},
          "execution_count": 26
        },
        {
          "output_type": "display_data",
          "data": {
            "text/plain": [
              "<Figure size 640x480 with 1 Axes>"
            ],
            "image/png": "[encoded data removed]"
          },
          "metadata": {}
        }
      ]
    },
    {
      "cell_type": "code",
      "source": [
        "#5. Design, train, tune and test a sequential model.\n",
        "X_train, X_test, y_train, y_test = train_test_split(data,label, test_size=0.30, random_state=1)"
      ],
      "metadata": {
        "id": "ms0cJPQ7IR6m"
      },
      "execution_count": 27,
      "outputs": []
    },
    {
      "cell_type": "code",
      "source": [
        "print(X_train.shape)\n",
        "print(X_test.shape)\n",
        "print(y_train.shape)\n",
        "print(y_test.shape)"
      ],
      "metadata": {
        "colab": {
          "base_uri": "https://localhost:8080/"
        },
        "id": "1fmzqI9zLFFZ",
        "outputId": "a532f7f6-837f-416f-f83d-e4e1e5288a77"
      },
      "execution_count": 28,
      "outputs": [
        {
          "output_type": "stream",
          "name": "stdout",
          "text": [
            "(35000, 10000)\n",
            "(15000, 10000)\n",
            "(35000,)\n",
            "(15000,)\n"
          ]
        }
      ]
    },
    {
      "cell_type": "code",
      "source": [
        "seq_model = models.Sequential()\n",
        "\n",
        "# input layer\n",
        "seq_model.add(layers.Dense(1000, activation = \"relu\", input_shape=(10000, )))\n",
        "\n",
        "# hidden layers\n",
        "seq_model.add(layers.Dropout(0.3, noise_shape=None, seed=None))\n",
        "seq_model.add(layers.Dense(100, activation = \"relu\"))\n",
        "seq_model.add(layers.Dropout(0.3, noise_shape=None, seed=None))\n",
        "seq_model.add(layers.Dense(50, activation = \"relu\"))\n",
        "\n",
        "# output layer\n",
        "seq_model.add(layers.Dense(1, activation = \"sigmoid\"))"
      ],
      "metadata": {
        "id": "J836GlmmNh1m"
      },
      "execution_count": 29,
      "outputs": []
    },
    {
      "cell_type": "code",
      "source": [
        "seq_model.summary()"
      ],
      "metadata": {
        "colab": {
          "base_uri": "https://localhost:8080/"
        },
        "id": "QWXxyeP6Nn3m",
        "outputId": "89b24a0d-b6a6-4126-8e3b-82e98bfd5352"
      },
      "execution_count": 30,
      "outputs": [
        {
          "output_type": "stream",
          "name": "stdout",
          "text": [
            "Model: \"sequential\"\n",
            "_________________________________________________________________\n",
            " Layer (type)                Output Shape              Param #   \n",
            "=================================================================\n",
            " dense (Dense)               (None, 1000)              10001000  \n",
            "                                                                 \n",
            " dropout (Dropout)           (None, 1000)              0         \n",
            "                                                                 \n",
            " dense_1 (Dense)             (None, 100)               100100    \n",
            "                                                                 \n",
            " dropout_1 (Dropout)         (None, 100)               0         \n",
            "                                                                 \n",
            " dense_2 (Dense)             (None, 50)                5050      \n",
            "                                                                 \n",
            " dense_3 (Dense)             (None, 1)                 51        \n",
            "                                                                 \n",
            "=================================================================\n",
            "Total params: 10,106,201\n",
            "Trainable params: 10,106,201\n",
            "Non-trainable params: 0\n",
            "_________________________________________________________________\n"
          ]
        }
      ]
    },
    {
      "cell_type": "code",
      "source": [
        "seq_model.compile(optimizer = \"adam\", loss = \"binary_crossentropy\",metrics = [\"accuracy\"])"
      ],
      "metadata": {
        "id": "NX5QueizN0k2"
      },
      "execution_count": 31,
      "outputs": []
    },
    {
      "cell_type": "code",
      "source": [
        "history = seq_model.fit(X_train, y_train, epochs= 5, batch_size = 50, validation_data = (X_test, y_test))"
      ],
      "metadata": {
        "colab": {
          "base_uri": "https://localhost:8080/"
        },
        "id": "xsgL-4TRN8bq",
        "outputId": "53057c7c-7c96-4692-9036-c8fac9dd0b9e"
      },
      "execution_count": 32,
      "outputs": [
        {
          "output_type": "stream",
          "name": "stdout",
          "text": [
            "Epoch 1/5\n",
            "700/700 [==============================] - 13s 10ms/step - loss: 0.3149 - accuracy: 0.8663 - val_loss: 0.2692 - val_accuracy: 0.8926\n",
            "Epoch 2/5\n",
            "700/700 [==============================] - 6s 8ms/step - loss: 0.1873 - accuracy: 0.9255 - val_loss: 0.3028 - val_accuracy: 0.8862\n",
            "Epoch 3/5\n",
            "700/700 [==============================] - 4s 6ms/step - loss: 0.1020 - accuracy: 0.9609 - val_loss: 0.3934 - val_accuracy: 0.8834\n",
            "Epoch 4/5\n",
            "700/700 [==============================] - 4s 6ms/step - loss: 0.0428 - accuracy: 0.9852 - val_loss: 0.5545 - val_accuracy: 0.8807\n",
            "Epoch 5/5\n",
            "700/700 [==============================] - 5s 7ms/step - loss: 0.0228 - accuracy: 0.9923 - val_loss: 0.5446 - val_accuracy: 0.8783\n"
          ]
        }
      ]
    },
    {
      "cell_type": "code",
      "source": [
        "results = seq_model.evaluate(X_test, y_test)"
      ],
      "metadata": {
        "id": "bIGIc9kcObLB",
        "colab": {
          "base_uri": "https://localhost:8080/"
        },
        "outputId": "0e0f4efc-cb12-444d-a5b6-8f462aaefbd9"
      },
      "execution_count": 33,
      "outputs": [
        {
          "output_type": "stream",
          "name": "stdout",
          "text": [
            "469/469 [==============================] - 2s 3ms/step - loss: 0.5446 - accuracy: 0.8783\n"
          ]
        }
      ]
    },
    {
      "cell_type": "code",
      "source": [
        "#6. Use the designed model to print the prediction on any one sample.\n",
        "seq_model.predict(X_test[2].reshape((1, 10000)))"
      ],
      "metadata": {
        "id": "xFHFFmbJPamk",
        "colab": {
          "base_uri": "https://localhost:8080/"
        },
        "outputId": "f3b43cfe-9a93-4dda-b9ed-df0a3ee4b1be"
      },
      "execution_count": 34,
      "outputs": [
        {
          "output_type": "stream",
          "name": "stdout",
          "text": [
            "1/1 [==============================] - 0s 129ms/step\n"
          ]
        },
        {
          "output_type": "execute_result",
          "data": {
            "text/plain": [
              "array([[0.29587722]], dtype=float32)"
            ]
          },
          "metadata": {},
          "execution_count": 34
        }
      ]
    },
    {
      "cell_type": "code",
      "source": [
        "y_test[2]"
      ],
      "metadata": {
        "id": "N3fuUED3Pn6j",
        "colab": {
          "base_uri": "https://localhost:8080/"
        },
        "outputId": "cb01219a-ab23-423d-9b53-68ba1f29a39f"
      },
      "execution_count": 35,
      "outputs": [
        {
          "output_type": "execute_result",
          "data": {
            "text/plain": [
              "1.0"
            ]
          },
          "metadata": {},
          "execution_count": 35
        }
      ]
    },
    {
      "cell_type": "code",
      "source": [
        "# plot for accuracy on train and validation\n",
        "\n",
        "plt.subplot(211)\n",
        "plt.title(\"Model Accuracy\")\n",
        "plt.ylabel('accuracy')\n",
        "plt.xlabel('epoch')\n",
        "plt.plot(history.history[\"accuracy\"], color=\"r\", label=\"Train\")\n",
        "plt.plot(history.history[\"val_accuracy\"], color=\"g\", label=\"Validation\")\n",
        "plt.legend(loc=\"best\")"
      ],
      "metadata": {
        "id": "6XCoqiLrPvLh",
        "colab": {
          "base_uri": "https://localhost:8080/",
          "height": 287
        },
        "outputId": "8704adb5-0dae-48b1-fe3c-3c823a3529b2"
      },
      "execution_count": 36,
      "outputs": [
        {
          "output_type": "execute_result",
          "data": {
            "text/plain": [
              "<matplotlib.legend.Legend at 0x7fca5f505c70>"
            ]
          },
          "metadata": {},
          "execution_count": 36
        },
        {
          "output_type": "display_data",
          "data": {
            "text/plain": [
              "<Figure size 640x480 with 1 Axes>"
            ],
            "image/png": "[encoded data removed]"
          },
          "metadata": {}
        }
      ]
    },
    {
      "cell_type": "code",
      "source": [
        "# plot for loss on train and validation\n",
        "\n",
        "plt.subplot(212)\n",
        "plt.title(\"Model Loss\")\n",
        "plt.ylabel('loss')\n",
        "plt.xlabel('epoch')\n",
        "plt.plot(history.history[\"loss\"], color=\"r\", label=\"Train\")\n",
        "plt.plot(history.history[\"val_loss\"], color=\"b\", label=\"Validation\")\n",
        "plt.legend(loc=\"best\")\n",
        "plt.tight_layout()\n",
        "plt.show()\n"
      ],
      "metadata": {
        "id": "fEXUDj7NR0SD",
        "colab": {
          "base_uri": "https://localhost:8080/",
          "height": 287
        },
        "outputId": "ea7b740c-f97b-4d11-b555-7d4962688cf8"
      },
      "execution_count": 37,
      "outputs": [
        {
          "output_type": "display_data",
          "data": {
            "text/plain": [
              "<Figure size 640x480 with 1 Axes>"
            ],
            "image/png": "[encoded data removed]"
          },
          "metadata": {}
        }
      ]
    },
    {
      "cell_type": "code",
      "source": [
        "print(\"Accuracy of the model on testing dataset is \" , seq_model.evaluate(X_test,y_test)[1]*100)"
      ],
      "metadata": {
        "id": "r8SrTEMySuu6",
        "colab": {
          "base_uri": "https://localhost:8080/"
        },
        "outputId": "2207b276-432f-4b17-ad93-3536e4b1a900"
      },
      "execution_count": 38,
      "outputs": [
        {
          "output_type": "stream",
          "name": "stdout",
          "text": [
            "469/469 [==============================] - 2s 4ms/step - loss: 0.5446 - accuracy: 0.8783\n",
            "Accuracy of the model on testing dataset is  87.826669216156\n"
          ]
        }
      ]
    },
    {
      "cell_type": "code",
      "source": [
        "#From the observation the sequential model has better performance with 87%.\n",
        "#From observing the Accuracy of predicting one sample graph above the training for model has been increased and validation has been decreased.\n",
        "#From observing the loss of predicting one sample the training has been gradually decreased and validation has been increased."
      ],
      "metadata": {
        "id": "IvCfjHxCcJYx"
      },
      "execution_count": 39,
      "outputs": []
    },
    {
      "cell_type": "code",
      "source": [],
      "metadata": {
        "id": "bHkjMPnsdYIw"
      },
      "execution_count": null,
      "outputs": []
    }
  ]
}